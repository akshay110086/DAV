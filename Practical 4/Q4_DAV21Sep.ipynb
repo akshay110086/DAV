{
 "cells": [
  {
   "cell_type": "code",
   "execution_count": 2,
   "id": "2dba5885",
   "metadata": {},
   "outputs": [
    {
     "name": "stdout",
     "output_type": "stream",
     "text": [
      "     Name  Time of Joining  Duration\n",
      "0  Aditya                1        30\n",
      "1   Ayush                1        30\n",
      "    Name  Time of Joining  Duration\n",
      "0  pooja                1        30\n",
      "1  Ayush                1        30\n",
      "      Name  Time of Joining_x  Duration_x  Time of Joining_y  Duration_y\n",
      "0    Ayush                  1          30                  1          30\n",
      "1    Rahul                  2          30                  2          30\n",
      "2  Jagriti                  1          40                  1          40\n",
      "3    Sagar                  2          50                  2          50\n",
      "4    Manav                  2          50                  2          50\n",
      "5  Vinayak                  2          50                  2          50\n",
      "6   Edward                  1          40                  1          40\n",
      "        Name  Time of Joining_x  Duration_x  Time of Joining_y  Duration_y\n",
      "0     Aditya                1.0        30.0                NaN         NaN\n",
      "1      Ayush                1.0        30.0                1.0        30.0\n",
      "2      Rahul                2.0        30.0                2.0        30.0\n",
      "3    Jagriti                1.0        40.0                1.0        40.0\n",
      "4      Sagar                2.0        50.0                2.0        50.0\n",
      "5      Manav                2.0        50.0                2.0        50.0\n",
      "6    Vinayak                2.0        50.0                2.0        50.0\n",
      "7      Umesh                1.0        40.0                NaN         NaN\n",
      "8     Yogesh                2.0        50.0                NaN         NaN\n",
      "9      Pooja                1.0        30.0                NaN         NaN\n",
      "10     Edwin                2.0        40.0                NaN         NaN\n",
      "11    Edward                1.0        40.0                1.0        40.0\n",
      "12     Harry                1.0        40.0                NaN         NaN\n",
      "13    Bulbul                2.0        40.0                NaN         NaN\n",
      "14  Taranjot                2.0        40.0                NaN         NaN\n",
      "15    Akshay                1.0        40.0                NaN         NaN\n",
      "16     pooja                NaN         NaN                1.0        30.0\n",
      "17    Tushar                NaN         NaN                2.0        50.0\n",
      "18    Shahil                NaN         NaN                1.0        30.0\n",
      "19  Debarpan                NaN         NaN                1.0        40.0\n",
      "20\n",
      "                  Time of Joining_x Time of Joining_y\n",
      "Name     Duration                                    \n",
      "Aditya   30                     1.0                 -\n",
      "Ayush    30                     1.0               1.0\n",
      "Rahul    30                     2.0               2.0\n",
      "Jagriti  40                     1.0               1.0\n",
      "Sagar    50                     2.0               2.0\n",
      "Manav    50                     2.0               2.0\n",
      "Vinayak  50                     2.0               2.0\n",
      "Umesh    40                     1.0                 -\n",
      "Yogesh   50                     2.0                 -\n",
      "Pooja    30                     1.0                 -\n",
      "Edwin    40                     2.0                 -\n",
      "Edward   40                     1.0               1.0\n",
      "Harry    40                     1.0                 -\n",
      "Bulbul   40                     2.0                 -\n",
      "Taranjot 40                     2.0                 -\n",
      "Akshay   40                     1.0                 -\n",
      "pooja    30                       -               1.0\n",
      "Tushar   50                       -               2.0\n",
      "Shahil   30                       -               1.0\n",
      "Debarpan 40                       -               1.0\n"
     ]
    }
   ],
   "source": [
    "import pandas as pd\n",
    "import numpy as np\n",
    "\n",
    "\n",
    "df1=pd.read_csv('data1.csv')\n",
    "df2=pd.read_csv('data2.csv')\n",
    "\n",
    "print(df1.head(2))\n",
    "print(df2.head(2))\n",
    "\n",
    "# a\n",
    "print(pd.merge(df1,df2,how='inner',on='Name'))\n",
    "\n",
    "# b\n",
    "either_day=pd.merge(df1,df2,how='outer',on='Name')\n",
    "print(either_day)\n",
    "\n",
    "# c\n",
    "print(either_day['Name'].count())\n",
    "\n",
    "# d\n",
    "both_days=pd.merge(df1,df2,how='outer',on=['Name','Duration']).copy()\n",
    "both_days.fillna(value='-',inplace=True)\n",
    "print(both_days.set_index(['Name','Duration']))\n"
   ]
  },
  {
   "cell_type": "code",
   "execution_count": null,
   "id": "c7869846",
   "metadata": {},
   "outputs": [],
   "source": []
  }
 ],
 "metadata": {
  "kernelspec": {
   "display_name": "Python 3 (ipykernel)",
   "language": "python",
   "name": "python3"
  },
  "language_info": {
   "codemirror_mode": {
    "name": "ipython",
    "version": 3
   },
   "file_extension": ".py",
   "mimetype": "text/x-python",
   "name": "python",
   "nbconvert_exporter": "python",
   "pygments_lexer": "ipython3",
   "version": "3.9.12"
  },
  "vscode": {
   "interpreter": {
    "hash": "fbc768028c3e6ead51d9a200ddcb2ec858ae62844dcd1994729a8279be9b48f2"
   }
  }
 },
 "nbformat": 4,
 "nbformat_minor": 5
}
